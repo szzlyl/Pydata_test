{
 "cells": [
  {
   "cell_type": "code",
   "execution_count": 1,
   "metadata": {
    "collapsed": true
   },
   "outputs": [],
   "source": [
    "import numpy as np\n",
    "import pandas as pd\n",
    "import tensorflow as tf"
   ]
  },
  {
   "cell_type": "code",
   "execution_count": 2,
   "metadata": {
    "collapsed": false
   },
   "outputs": [],
   "source": [
    "#Retrieve the data from Yahoo\n",
    "#https://finance.yahoo.com/quote/%5EHSI/history?p=%5EHSI\n",
    "#put the data into DataHandling\n",
    "\n",
    "Flnb_HSI=\"D:\\\\DataHandling\\\\HSI.csv\" \n",
    "Flnb_VIX=\"D:\\\\DataHandling\\\\VIX.csv\" \n",
    "\n"
   ]
  },
  {
   "cell_type": "code",
   "execution_count": 3,
   "metadata": {
    "collapsed": false
   },
   "outputs": [],
   "source": [
    "#Get the data from CSV  \n",
    "data_A = pd.read_csv(Flnb_HSI)\n",
    "data_B = pd.read_csv(Flnb_VIX)"
   ]
  },
  {
   "cell_type": "code",
   "execution_count": 7,
   "metadata": {},
   "outputs": [],
   "source": [
    "#Merge two data set \n",
    "data_M =data_A.merge(data_B, left_on='Date', right_on='Date', how='inner')\n"
   ]
  },
  {
   "cell_type": "code",
   "execution_count": 12,
   "metadata": {},
   "outputs": [
    {
     "name": "stdout",
     "output_type": "stream",
     "text": [
      "[[12]]\n"
     ]
    },
    {
     "data": {
      "text/plain": [
       "<bound method BaseSession.close of <tensorflow.python.client.session.Session object at 0x000001CCE312A240>>"
      ]
     },
     "execution_count": 12,
     "metadata": {},
     "output_type": "execute_result"
    }
   ],
   "source": [
    "hi = tf.constant([[3,3]])\n",
    "h2 =  tf.constant([[2],\n",
    "                   [2]])\n",
    "product = tf.matmul(hi,h2)\n",
    "\n",
    "sess = tf.Session()\n",
    "result = sess.run(product)\n",
    "print(result)\n",
    "sess.close"
   ]
  },
  {
   "cell_type": "code",
   "execution_count": 13,
   "metadata": {},
   "outputs": [],
   "source": [
    "state=tf.Variable(0,name='counter')\n",
    "\n",
    "one=tf.constant(1)\n",
    "\n",
    "new_value=tf.add(state,one)\n",
    "\n",
    "update=tf.assign(state,new_value)\n",
    "\n",
    "init = tf.global_variables_initializer()"
   ]
  },
  {
   "cell_type": "code",
   "execution_count": 16,
   "metadata": {},
   "outputs": [
    {
     "name": "stdout",
     "output_type": "stream",
     "text": [
      "1\n2\n3\n"
     ]
    }
   ],
   "source": [
    "sess = tf.Session()\n",
    "\n",
    "se_in = sess.run(init)\n",
    "\n",
    "\n",
    "for _ in range(3):\n",
    "    re=sess.run(update)\n",
    "    print(re)\n"
   ]
  },
  {
   "cell_type": "code",
   "execution_count": null,
   "metadata": {},
   "outputs": [],
   "source": []
  }
 ],
 "metadata": {
  "kernelspec": {
   "display_name": "Python 2",
   "language": "python",
   "name": "python2"
  },
  "language_info": {
   "codemirror_mode": {
    "name": "ipython",
    "version": 2
   },
   "file_extension": ".py",
   "mimetype": "text/x-python",
   "name": "python",
   "nbconvert_exporter": "python",
   "pygments_lexer": "ipython2",
   "version": "2.7.6"
  }
 },
 "nbformat": 4,
 "nbformat_minor": 0
}
